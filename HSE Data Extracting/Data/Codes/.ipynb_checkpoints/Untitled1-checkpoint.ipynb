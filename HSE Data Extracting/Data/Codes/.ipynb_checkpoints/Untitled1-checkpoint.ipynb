{
 "cells": [
  {
   "cell_type": "code",
   "execution_count": 1,
   "metadata": {
    "collapsed": true
   },
   "outputs": [],
   "source": [
    "import os\n",
    "import numpy as np\n",
    "import pandas as pd\n",
    "import collections\n",
    "import matplotlib.pyplot as plt\n",
    "import networkx as nx\n",
    "import math\n",
    "import re\n",
    "from difflib import SequenceMatcher\n",
    "from unidecode import unidecode \n",
    "from openpyxl import Workbook"
   ]
  },
  {
   "cell_type": "code",
   "execution_count": 2,
   "metadata": {
    "collapsed": true
   },
   "outputs": [],
   "source": [
    "Graph_train =nx.read_gml(\"/Users/olgagerasimova/Desktop/Data/Graph_train.gml\")"
   ]
  },
  {
   "cell_type": "code",
   "execution_count": 3,
   "metadata": {
    "collapsed": true
   },
   "outputs": [],
   "source": [
    "Graph_2017=nx.read_gml(\"/Users/olgagerasimova/Desktop/Data/Graph_2017.gml\")"
   ]
  },
  {
   "cell_type": "code",
   "execution_count": 4,
   "metadata": {
    "collapsed": true
   },
   "outputs": [],
   "source": [
    "edges_train = []\n",
    "empty =[edges_train.append(e) for e in Graph_train.edges()]\n",
    "edges_2017 = []\n",
    "empty =[edges_2017.append(e) for e in Graph_2017.edges()]"
   ]
  },
  {
   "cell_type": "code",
   "execution_count": 5,
   "metadata": {
    "collapsed": true
   },
   "outputs": [],
   "source": [
    "nodes_train = []\n",
    "empty =[nodes_train.append(e) for e in Graph_train.nodes()]\n",
    "nodes_2017 = []\n",
    "empty =[nodes_2017.append(e) for e in Graph_2017.nodes()]"
   ]
  },
  {
   "cell_type": "code",
   "execution_count": 6,
   "metadata": {
    "collapsed": true
   },
   "outputs": [],
   "source": [
    "all_e_train = []\n",
    "nt = sorted(nodes_train)\n",
    "for i in nt:\n",
    "    for j in nt:\n",
    "        if i != j:\n",
    "            all_e_train.append((i,j))"
   ]
  },
  {
   "cell_type": "code",
   "execution_count": 7,
   "metadata": {
    "collapsed": true
   },
   "outputs": [],
   "source": [
    "all_e = []\n",
    "nt = sorted(nodes_2017)\n",
    "for i in nt:\n",
    "    for j in nt:\n",
    "        if i != j:\n",
    "            all_e.append((i,j))"
   ]
  },
  {
   "cell_type": "code",
   "execution_count": 14,
   "metadata": {
    "collapsed": true
   },
   "outputs": [],
   "source": [
    "AA_2017 = nx.adamic_adar_index(nx.Graph(Graph_2017), all_e)"
   ]
  },
  {
   "cell_type": "code",
   "execution_count": 9,
   "metadata": {
    "collapsed": true
   },
   "outputs": [],
   "source": [
    "AA_train = nx.adamic_adar_index(nx.Graph(Graph_train), all_e_train)"
   ]
  },
  {
   "cell_type": "code",
   "execution_count": 15,
   "metadata": {
    "collapsed": true
   },
   "outputs": [],
   "source": [
    "f = open('/Users/olgagerasimova/Desktop/Data/AA_2017.txt', 'w')\n",
    "\n",
    "for j in AA_2017:\n",
    "    \n",
    "    f.write(str(j[0])+\" \"+str(j[1]) +\" \"+ str(j[2])+'\\n')\n",
    "\n",
    "f.close()"
   ]
  },
  {
   "cell_type": "code",
   "execution_count": 16,
   "metadata": {
    "collapsed": true
   },
   "outputs": [],
   "source": [
    "f = open('/Users/olgagerasimova/Desktop/Data/AA_train.txt', 'w')\n",
    "\n",
    "for j in AA_train:\n",
    "    \n",
    "    f.write(str(j[0])+\" \"+str(j[1]) +\" \"+ str(j[2])+'\\n')\n",
    "\n",
    "f.close()"
   ]
  },
  {
   "cell_type": "code",
   "execution_count": 17,
   "metadata": {
    "collapsed": true
   },
   "outputs": [],
   "source": [
    "wb = Workbook() \n",
    "ws = wb.active\n",
    "col = 2\n",
    "row = 2\n",
    "col_f = 2\n",
    "row_f = 2\n",
    "for i in nodes_2017:\n",
    "    ws.cell(row = row_f, column = 1, value = i)\n",
    "    ws.cell(row = 1, column = col_f, value = i)\n",
    "    col_f += 1\n",
    "    row_f += 1\n",
    "com_neig_2017 = np.zeros((len(nodes_2017),len(nodes_2017)))\n",
    "for i in range(len(com_neig_2017)):\n",
    "    col = 2\n",
    "    for j in range(len(com_neig_2017)):\n",
    "        if i != j:\n",
    "            com_neig_2017[i][j] = len(list(nx.common_neighbors(Graph_2017,nodes_2017[i],nodes_2017[j])))\n",
    "            ws.cell(row = row, column = col, value = com_neig_2017[i][j])\n",
    "            col +=1\n",
    "    row +=1\n",
    "wb.save('/Users/olgagerasimova/Desktop/Data/Com_neig_2017.xlsx')"
   ]
  },
  {
   "cell_type": "code",
   "execution_count": null,
   "metadata": {
    "collapsed": true
   },
   "outputs": [],
   "source": [
    "wb = Workbook() \n",
    "ws = wb.active\n",
    "col = 2\n",
    "row = 2\n",
    "col_f = 2\n",
    "row_f = 2\n",
    "for i in nodes_train:\n",
    "    ws.cell(row = row_f, column = 1, value = i)\n",
    "    ws.cell(row = 1, column = col_f, value = i)\n",
    "    col_f += 1\n",
    "    row_f += 1\n",
    "com_neig_train = np.zeros((len(nodes_train),len(nodes_train)))\n",
    "for i in range(len(com_neig_train)):\n",
    "    col = 2\n",
    "    for j in range(len(com_neig_train)):\n",
    "        if i != j:\n",
    "            com_neig_train[i][j] = len(list(nx.common_neighbors(Graph_train,nodes_train[i],nodes_train[j])))\n",
    "            ws.cell(row = row, column = col, value = com_neig_train[i][j])\n",
    "            col +=1\n",
    "    row +=1\n",
    "wb.save('/Users/olgagerasimova/Desktop/Data/Com_neig_train.xlsx')"
   ]
  },
  {
   "cell_type": "code",
   "execution_count": null,
   "metadata": {
    "collapsed": true
   },
   "outputs": [],
   "source": []
  }
 ],
 "metadata": {
  "kernelspec": {
   "display_name": "Python 2",
   "language": "python",
   "name": "python2"
  },
  "language_info": {
   "codemirror_mode": {
    "name": "ipython",
    "version": 2
   },
   "file_extension": ".py",
   "mimetype": "text/x-python",
   "name": "python",
   "nbconvert_exporter": "python",
   "pygments_lexer": "ipython2",
   "version": "2.7.14"
  }
 },
 "nbformat": 4,
 "nbformat_minor": 2
}
