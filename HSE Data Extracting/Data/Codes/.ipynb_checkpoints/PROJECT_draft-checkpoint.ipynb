{
 "cells": [
  {
   "cell_type": "code",
   "execution_count": null,
   "metadata": {
    "collapsed": true
   },
   "outputs": [],
   "source": [
    "import pandas as pd\n",
    "from os import listdir\n",
    "\n",
    "files = listdir(\"data\")\n",
    "for f in files:\n",
    "    name = \"data/\" + f\n",
    "    name1 = \"data/\" + f.replace(\".xls\",\".csv\")\n",
    "    l = [3, 8, 11, 12, 14]\n",
    "    data_xls = pd.read_excel(name, 'Sheet1', parse_cols=l, index_col=None)\n",
    "    data_xls.to_csv(name1,sep = \";\", encoding='utf-8',header = [\"jour\",\"year\",\"authors\",\"hse_authors\",\"scopus\"])"
   ]
  },
  {
   "cell_type": "code",
   "execution_count": 134,
   "metadata": {
    "collapsed": true
   },
   "outputs": [],
   "source": [
    "import requests\n",
    "import json"
   ]
  },
  {
   "cell_type": "code",
   "execution_count": 5,
   "metadata": {
    "collapsed": true
   },
   "outputs": [],
   "source": [
    "s = requests.session()\n",
    "headers = {\n",
    "    'login_username': 'ogerasimova',\n",
    "    'login_password': 's1[Rq2',\n",
    "    'login': 'Вход'}\n",
    "url = 'https://www.hse.ru/db/user_login.html?goto=*L3VzZXIvPw==%5E'\n",
    "page = s.post(url=url, data=json.dumps(headers))"
   ]
  },
  {
   "cell_type": "code",
   "execution_count": 10,
   "metadata": {},
   "outputs": [
    {
     "data": {
      "text/plain": [
       "200"
      ]
     },
     "execution_count": 10,
     "metadata": {},
     "output_type": "execute_result"
    }
   ],
   "source": [
    "page.status_code"
   ]
  },
  {
   "cell_type": "code",
   "execution_count": null,
   "metadata": {
    "collapsed": true
   },
   "outputs": [],
   "source": [
    " print page.text"
   ]
  },
  {
   "cell_type": "code",
   "execution_count": 21,
   "metadata": {
    "collapsed": true
   },
   "outputs": [],
   "source": [
    "s = requests.Session()\n",
    "postdata = {'login': 'ogerasimova', 'password': 's1[Rq2'}\n",
    "r = s.post('https://www.hse.ru/db/user_login.html', data=postdata)"
   ]
  },
  {
   "cell_type": "code",
   "execution_count": 115,
   "metadata": {
    "collapsed": true
   },
   "outputs": [],
   "source": [
    "import requests\n",
    "class My(object):\n",
    "    url = 'https://www.hse.ru/db/user_login.html'\n",
    "    \n",
    "    def auth(self):\n",
    "        s = requests.Session()\n",
    "        url = self.url + '/check_login.html'\n",
    "        params = {\n",
    "            'goto':u'L2FkbS9pbmRleC5odG1s^',\n",
    "            'addon_name':u'user',\n",
    "            '_r': 0.3552159481170676,\n",
    "            'login':u'ogerasimova',\n",
    "            'password':u's1[Rq2'    \n",
    "        }\n",
    "        r = s.post(url, params)\n",
    "        \n",
    "\n",
    "if __name__ == 'main':\n",
    "    My = My()\n",
    "    My.auth()\n",
    "    print r.status_code\n"
   ]
  },
  {
   "cell_type": "code",
   "execution_count": 136,
   "metadata": {
    "collapsed": true
   },
   "outputs": [],
   "source": [
    "import json\n",
    "s = requests.Session()\n",
    "url0 = 'https://www.hse.ru/db/user_login.html'\n",
    "url = url0 + '/check_login.html'\n",
    "params = {\n",
    "            'goto':u'L2FkbS9pbmRleC5odG1s^',\n",
    "            'addon_name':u'user',\n",
    "            '_r': 0.3552159481170676,\n",
    "            'login':u'ogerasimova',\n",
    "            'password':u's1[Rq2'    \n",
    "        }\n",
    "r = s.post(url, params)\n",
    "r2 = s.get('https://www.hse.ru/user/index.html',  params = params)\n",
    "#r3 = s.get('https://www.hse.ru/adm/index.html?_r=15650214.404370712952')\n"
   ]
  },
  {
   "cell_type": "code",
   "execution_count": 59,
   "metadata": {
    "collapsed": true
   },
   "outputs": [],
   "source": [
    "# Открываем главную страницу ВШЭ\n",
    "response = urllib.urlopen(\"https://www.hse.ru/db/user_login.html?goto=*L2FkbS9pbmRleC5odG1s%5E&addon_name=user&_r=0.3552159481170676&login=ogerasimova&password=s1%5BRq2\")"
   ]
  },
  {
   "cell_type": "code",
   "execution_count": 60,
   "metadata": {
    "collapsed": true
   },
   "outputs": [],
   "source": [
    "# И читаем HTML-содержимое, декодируя его из кодировки utf-8\n",
    "text = response.read().decode(\"utf-8\")"
   ]
  },
  {
   "cell_type": "code",
   "execution_count": 112,
   "metadata": {},
   "outputs": [
    {
     "name": "stdout",
     "output_type": "stream",
     "text": [
      "404\n"
     ]
    }
   ],
   "source": [
    "s = requests.Session()\n",
    "params = {\n",
    "            'goto':'L2FkbS9pbmRleC5odG1s^',\n",
    "            'addon_name':'user',\n",
    "            '_r':0.3552159481170676,\n",
    "            'login':'ogerasimova',\n",
    "            'password':'s1[Rq2'    \n",
    "        }\n",
    "r = requests.post('https://www.hse.ru/check_login.html', data = params)\n",
    "#r2 = requests.get('https://www.hse.ru/user/index.html')\n",
    "print r.status_code\n"
   ]
  },
  {
   "cell_type": "code",
   "execution_count": 91,
   "metadata": {
    "collapsed": true
   },
   "outputs": [],
   "source": [
    "import httplib, urllib2\n",
    "from urllib import urlencode\n",
    "from cookielib import CookieJar\n",
    "cookie_processor = urllib2.HTTPCookieProcessor(CookieJar())\n",
    "opener = urllib2.build_opener(cookie_processor)\n",
    "params = {\n",
    "            'goto':'L2FkbS9pbmRleC5odG1s^',\n",
    "            'addon_name':'user',\n",
    "            '_r':0.3552159481170676,\n",
    "            'login':'ogerasimova',\n",
    "            'password':'s1[Rq2'    \n",
    "        }\n",
    "opener.open('https://www.hse.ru/db/user_login.html', urlencode(params))\n",
    "req = opener.open('https://www.hse.ru/db/user_login.html/adm/index.html?_r=15650214.404370712952')\n",
    "html = req.read()"
   ]
  },
  {
   "cell_type": "code",
   "execution_count": 99,
   "metadata": {},
   "outputs": [
    {
     "name": "stdout",
     "output_type": "stream",
     "text": [
      "302\n",
      "https://hosting.timeweb.ru/\n",
      "\n"
     ]
    }
   ],
   "source": [
    "import requests\n",
    " \n",
    "url_login = r'https://hosting.timeweb.ru/login'\n",
    "url_main = r'https://hosting.timeweb.ru'\n",
    " \n",
    "payload = {\n",
    "    'LoginForm[username]': 'ci91199',\n",
    "    'LoginForm[password]': 'tST1wx1hRRkn',\n",
    "}\n",
    " \n",
    "headers = {\n",
    "    'Accept': 'text/html,application/xhtml+xml,application/xml;q=0.9,*/*;q=0.8',\n",
    "    'Accept-Encoding': 'gzip, deflate',\n",
    "    'Accept-Language': 'ru-RU,ru;q=0.8,en-US;q=0.5,en;q=0.3',\n",
    "    'Connection': 'keep-alive',\n",
    "    'Host': 'hosting.timeweb.ru',\n",
    "    'X-Requested-With': 'XMLHttpRequest'\n",
    "}\n",
    " \n",
    "r = requests.post(url_login, data=payload, headers=headers)\n",
    " \n",
    "cookies = r.cookies.get_dict()\n",
    "cookies['_identity_hosting'] = 'df0fc8bda049e5a8153084d6bf3e040af258179c5e68b49276f445b7acbc9537a%3A2%3A%7Bi%3A0%3Bs%3A17%3A%22_identity_hosting%22%3Bi%3A1%3Bs%3A58%3A%22%5B%22ci91199%22%2C%22e8d68688-ef73-4b01-bf6f-b2a245770b56%22%2C2592000%5D%22%3B%7D'\n",
    " \n",
    "r2 = requests.get(url_main, cookies=cookies, headers=headers)\n",
    " \n",
    "print(r2.status_code)\n",
    "print(r2.url)\n",
    "print(r2.text)"
   ]
  },
  {
   "cell_type": "code",
   "execution_count": null,
   "metadata": {
    "collapsed": true
   },
   "outputs": [],
   "source": []
  },
  {
   "cell_type": "code",
   "execution_count": null,
   "metadata": {
    "collapsed": true
   },
   "outputs": [],
   "source": []
  },
  {
   "cell_type": "code",
   "execution_count": null,
   "metadata": {
    "collapsed": true
   },
   "outputs": [],
   "source": []
  },
  {
   "cell_type": "code",
   "execution_count": null,
   "metadata": {
    "collapsed": true
   },
   "outputs": [],
   "source": []
  },
  {
   "cell_type": "code",
   "execution_count": 15,
   "metadata": {
    "collapsed": true
   },
   "outputs": [],
   "source": [
    "import xlrd, xlwt\n",
    "from xlrd import open_workbook"
   ]
  },
  {
   "cell_type": "code",
   "execution_count": 16,
   "metadata": {},
   "outputs": [],
   "source": [
    "    newb_people = xlwt.Workbook()\n",
    "    l = 0\n",
    "    news_people = newb_people.add_sheet(str(1+l))\n",
    "    news_people.write(0,0,'ID')\n",
    "    news_people.write(0,1,'FIO')\n",
    "    news_people.write(0,2,'URL_org')\n",
    "    news_people.write(0,3,'URL_pes')\n",
    "    news_people.write(0,4,'Links')\n",
    "    news_people.write(0,5,'Deps')\n",
    "    news_people.write(0,6,'Positions')\n",
    "    news_people.write(0,7,'Active')"
   ]
  },
  {
   "cell_type": "code",
   "execution_count": 17,
   "metadata": {
    "collapsed": true
   },
   "outputs": [],
   "source": [
    "from selenium import webdriver\n",
    "from selenium.webdriver.common.keys import Keys\n",
    "from selenium.webdriver.common.by import By\n",
    "from selenium.webdriver.support import expected_conditions as EC\n",
    "\n",
    "driver = webdriver.Chrome('/Users/olgagerasimova/Desktop/chromedriver')\n",
    "driver.get(\"https://www.hse.ru/db/user_login.html\")\n",
    "log_elem = driver.find_element_by_name(\"login\")\n",
    "psw_elem = driver.find_element_by_name(\"password\")\n",
    "\n",
    "log_elem.send_keys(\"ogerasimova\")\n",
    "psw_elem.send_keys(\"s1[Rq2\")\n",
    "but_elem = driver.find_element_by_css_selector('td.au_form_button')\n",
    "but_elem.submit()\n"
   ]
  },
  {
   "cell_type": "code",
   "execution_count": 19,
   "metadata": {},
   "outputs": [],
   "source": [
    "link_elem = driver.find_element_by_link_text('Мои задачи')\n",
    "link_elem.click()"
   ]
  },
  {
   "cell_type": "code",
   "execution_count": 20,
   "metadata": {
    "collapsed": true
   },
   "outputs": [],
   "source": [
    "link_elem2 = driver.find_element_by_link_text('Добавить проект в ярмарку проектов') \n",
    "link_elem2.click()"
   ]
  },
  {
   "cell_type": "code",
   "execution_count": 21,
   "metadata": {
    "collapsed": true
   },
   "outputs": [],
   "source": [
    "link_elem3 = driver.find_element_by_id(\"t__topleft\").find_element_by_tag_name('a')\n",
    "link_elem3.click()"
   ]
  },
  {
   "cell_type": "code",
   "execution_count": 22,
   "metadata": {},
   "outputs": [],
   "source": [
    "#link_elem4 = driver.find_element_by_xpath(\"//input[@type='button']\")\n",
    "import re\n",
    "f = re.findall(r'onclick=\"change_objref[\\w\\W]+default\\'\\s\\+\\s\\'\\'', driver.page_source)\n",
    "url = re.findall('/adm[\\w\\W]+default', f[0])\n",
    "url_new_win = \"https://www.hse.ru\" + url[0]\n",
    "driver.get(url_new_win)"
   ]
  },
  {
   "cell_type": "code",
   "execution_count": 23,
   "metadata": {
    "collapsed": true
   },
   "outputs": [],
   "source": [
    "# создание таблицы\n",
    "part_of_table = driver.find_element_by_class_name(\"list\") # таблица с именами"
   ]
  },
  {
   "cell_type": "code",
   "execution_count": 24,
   "metadata": {
    "collapsed": true
   },
   "outputs": [],
   "source": [
    "from bs4 import BeautifulSoup\n",
    "from lxml import html\n",
    "people = []\n",
    "w_even = driver.find_elements(By.CLASS_NAME,\"even_row\")\n",
    "w_odd = driver.find_elements(By.CLASS_NAME,\"odd_row\")\n"
   ]
  },
  {
   "cell_type": "code",
   "execution_count": 25,
   "metadata": {
    "collapsed": true
   },
   "outputs": [],
   "source": [
    "def person_info(w_even):\n",
    "    persons = []\n",
    "    for i in range(len(w_even)):\n",
    "        source_code = w_even[i].get_attribute(\"outerHTML\")\n",
    "        soup = BeautifulSoup(source_code, \"lxml\")\n",
    "        td1 = soup.find_all('td')[0]\n",
    "        td2 = soup.find_all('td')[1]\n",
    "        td3 = soup.find_all('td')[2]\n",
    "        td4 = soup.find_all('td')[3]\n",
    "\n",
    "        #elem = re.findall(r'onclick=\"selectInOpener[\\w\\W]+window.close\\(\\)',source_code)\n",
    "        id_elem = re.findall(r'[\\d]+', str(td1))\n",
    "        if len(id_elem) == 0:\n",
    "            id_elem = [\"\"]\n",
    "        \n",
    "        fio = td1.text #re.findall(r',[\\D]+\\);',elem[0])[0][1:-2]\n",
    "\n",
    "        url_org = \"https://www.hse.ru/org/persons/\" + id_elem[0]\n",
    "\n",
    "        s = BeautifulSoup(str(td2), \"lxml\")\n",
    "        url_pes = \"https://www.hse.ru\" + s.find('a').get('href')\n",
    "\n",
    "        if td4.text == u'Активно':\n",
    "            active = 1\n",
    "        else:\n",
    "            active = 0\n",
    "\n",
    "        info = []\n",
    "\n",
    "        s = BeautifulSoup(str(td3), \"lxml\")\n",
    "        div_tags = s.find_all('div')\n",
    "        for i in range(len(div_tags)):\n",
    "            s0 = BeautifulSoup(str(div_tags[i]), \"lxml\")\n",
    "            link = \"https://www.hse.ru\" + s0.find('a').get('href')\n",
    "            name_dep = s0.find('a').text\n",
    "            pos =  re.findall(r':[\\s\\w\\W]+',div_tags[i].text)[0][1:].strip().split(',')\n",
    "            info.append([link, name_dep, pos])\n",
    "\n",
    "        persons.append([id_elem[0],fio,url_org,url_pes,active, info])\n",
    "    return persons"
   ]
  },
  {
   "cell_type": "code",
   "execution_count": 26,
   "metadata": {},
   "outputs": [],
   "source": [
    "num = 0\n",
    "row = 0\n",
    "rowb = 0\n",
    "people.extend(person_info(w_even))\n",
    "people.extend(person_info(w_odd))\n",
    "num += len(w_even)\n",
    "num += len(w_odd)\n",
    "\n",
    "for e in range(len(w_even)+len(w_odd)):\n",
    "    P = people[row]\n",
    "    row += 1\n",
    "    rowb += 1\n",
    "    news_people.write(rowb,0,P[0])\n",
    "    news_people.write(rowb,1,P[1])\n",
    "    news_people.write(rowb,2,P[2])\n",
    "    news_people.write(rowb,3,P[3])\n",
    "    L = ''\n",
    "    D = ''\n",
    "    Pos = ''\n",
    "    for k in range(len(P[5])):\n",
    "        L += P[5][k][0]\n",
    "        L +='; '\n",
    "        #\n",
    "        D += P[5][k][1]\n",
    "        D +='; '\n",
    "        #\n",
    "        for p in P[5][k][2]:\n",
    "            Pos += p\n",
    "            Pos += ','\n",
    "        Pos += ';'\n",
    "            \n",
    "    news_people.write(rowb,4,L)\n",
    "    news_people.write(rowb,5,D)\n",
    "    news_people.write(rowb,6,Pos)\n",
    "    news_people.write(rowb,7,P[4])\n",
    "    \n",
    "    "
   ]
  },
  {
   "cell_type": "code",
   "execution_count": 27,
   "metadata": {},
   "outputs": [
    {
     "ename": "ValueError",
     "evalue": "row index was 65536, not allowed by .xls format",
     "output_type": "error",
     "traceback": [
      "\u001b[0;31m---------------------------------------------------------------------------\u001b[0m",
      "\u001b[0;31mValueError\u001b[0m                                Traceback (most recent call last)",
      "\u001b[0;32m<ipython-input-27-9abaed80b3cc>\u001b[0m in \u001b[0;36m<module>\u001b[0;34m()\u001b[0m\n\u001b[1;32m     12\u001b[0m         \u001b[0mP\u001b[0m \u001b[0;34m=\u001b[0m \u001b[0mpeople\u001b[0m\u001b[0;34m[\u001b[0m\u001b[0mrow\u001b[0m\u001b[0;34m]\u001b[0m\u001b[0;34m\u001b[0m\u001b[0m\n\u001b[1;32m     13\u001b[0m         \u001b[0mrow\u001b[0m \u001b[0;34m+=\u001b[0m \u001b[0;36m1\u001b[0m\u001b[0;34m\u001b[0m\u001b[0m\n\u001b[0;32m---> 14\u001b[0;31m         \u001b[0mnews_people\u001b[0m\u001b[0;34m.\u001b[0m\u001b[0mwrite\u001b[0m\u001b[0;34m(\u001b[0m\u001b[0mrow\u001b[0m\u001b[0;34m,\u001b[0m\u001b[0;36m0\u001b[0m\u001b[0;34m,\u001b[0m\u001b[0mP\u001b[0m\u001b[0;34m[\u001b[0m\u001b[0;36m0\u001b[0m\u001b[0;34m]\u001b[0m\u001b[0;34m)\u001b[0m\u001b[0;34m\u001b[0m\u001b[0m\n\u001b[0m\u001b[1;32m     15\u001b[0m         \u001b[0mnews_people\u001b[0m\u001b[0;34m.\u001b[0m\u001b[0mwrite\u001b[0m\u001b[0;34m(\u001b[0m\u001b[0mrow\u001b[0m\u001b[0;34m,\u001b[0m\u001b[0;36m1\u001b[0m\u001b[0;34m,\u001b[0m\u001b[0mP\u001b[0m\u001b[0;34m[\u001b[0m\u001b[0;36m1\u001b[0m\u001b[0;34m]\u001b[0m\u001b[0;34m)\u001b[0m\u001b[0;34m\u001b[0m\u001b[0m\n\u001b[1;32m     16\u001b[0m         \u001b[0mnews_people\u001b[0m\u001b[0;34m.\u001b[0m\u001b[0mwrite\u001b[0m\u001b[0;34m(\u001b[0m\u001b[0mrow\u001b[0m\u001b[0;34m,\u001b[0m\u001b[0;36m2\u001b[0m\u001b[0;34m,\u001b[0m\u001b[0mP\u001b[0m\u001b[0;34m[\u001b[0m\u001b[0;36m2\u001b[0m\u001b[0;34m]\u001b[0m\u001b[0;34m)\u001b[0m\u001b[0;34m\u001b[0m\u001b[0m\n",
      "\u001b[0;32m/anaconda2/lib/python2.7/site-packages/xlwt/Worksheet.pyc\u001b[0m in \u001b[0;36mwrite\u001b[0;34m(self, r, c, label, style)\u001b[0m\n\u001b[1;32m   1086\u001b[0m            \u001b[0;34m:\u001b[0m\u001b[0;32mclass\u001b[0m\u001b[0;34m:\u001b[0m\u001b[0;34m`\u001b[0m\u001b[0;34m~\u001b[0m\u001b[0mxlwt\u001b[0m\u001b[0;34m.\u001b[0m\u001b[0mStyle\u001b[0m\u001b[0;34m.\u001b[0m\u001b[0mXFStyle\u001b[0m\u001b[0;34m`\u001b[0m \u001b[0mobject\u001b[0m\u001b[0;34m.\u001b[0m\u001b[0;34m\u001b[0m\u001b[0m\n\u001b[1;32m   1087\u001b[0m         \"\"\"\n\u001b[0;32m-> 1088\u001b[0;31m         \u001b[0mself\u001b[0m\u001b[0;34m.\u001b[0m\u001b[0mrow\u001b[0m\u001b[0;34m(\u001b[0m\u001b[0mr\u001b[0m\u001b[0;34m)\u001b[0m\u001b[0;34m.\u001b[0m\u001b[0mwrite\u001b[0m\u001b[0;34m(\u001b[0m\u001b[0mc\u001b[0m\u001b[0;34m,\u001b[0m \u001b[0mlabel\u001b[0m\u001b[0;34m,\u001b[0m \u001b[0mstyle\u001b[0m\u001b[0;34m)\u001b[0m\u001b[0;34m\u001b[0m\u001b[0m\n\u001b[0m\u001b[1;32m   1089\u001b[0m \u001b[0;34m\u001b[0m\u001b[0m\n\u001b[1;32m   1090\u001b[0m     \u001b[0;32mdef\u001b[0m \u001b[0mwrite_rich_text\u001b[0m\u001b[0;34m(\u001b[0m\u001b[0mself\u001b[0m\u001b[0;34m,\u001b[0m \u001b[0mr\u001b[0m\u001b[0;34m,\u001b[0m \u001b[0mc\u001b[0m\u001b[0;34m,\u001b[0m \u001b[0mrich_text_list\u001b[0m\u001b[0;34m,\u001b[0m \u001b[0mstyle\u001b[0m\u001b[0;34m=\u001b[0m\u001b[0mStyle\u001b[0m\u001b[0;34m.\u001b[0m\u001b[0mdefault_style\u001b[0m\u001b[0;34m)\u001b[0m\u001b[0;34m:\u001b[0m\u001b[0;34m\u001b[0m\u001b[0m\n",
      "\u001b[0;32m/anaconda2/lib/python2.7/site-packages/xlwt/Worksheet.pyc\u001b[0m in \u001b[0;36mrow\u001b[0;34m(self, indx)\u001b[0m\n\u001b[1;32m   1140\u001b[0m             \u001b[0;32mif\u001b[0m \u001b[0mindx\u001b[0m \u001b[0;32min\u001b[0m \u001b[0mself\u001b[0m\u001b[0;34m.\u001b[0m\u001b[0m__flushed_rows\u001b[0m\u001b[0;34m:\u001b[0m\u001b[0;34m\u001b[0m\u001b[0m\n\u001b[1;32m   1141\u001b[0m                 \u001b[0;32mraise\u001b[0m \u001b[0mException\u001b[0m\u001b[0;34m(\u001b[0m\u001b[0;34m\"Attempt to reuse row index %d of sheet %r after flushing\"\u001b[0m \u001b[0;34m%\u001b[0m \u001b[0;34m(\u001b[0m\u001b[0mindx\u001b[0m\u001b[0;34m,\u001b[0m \u001b[0mself\u001b[0m\u001b[0;34m.\u001b[0m\u001b[0m__name\u001b[0m\u001b[0;34m)\u001b[0m\u001b[0;34m)\u001b[0m\u001b[0;34m\u001b[0m\u001b[0m\n\u001b[0;32m-> 1142\u001b[0;31m             \u001b[0mself\u001b[0m\u001b[0;34m.\u001b[0m\u001b[0m__rows\u001b[0m\u001b[0;34m[\u001b[0m\u001b[0mindx\u001b[0m\u001b[0;34m]\u001b[0m \u001b[0;34m=\u001b[0m \u001b[0mself\u001b[0m\u001b[0;34m.\u001b[0m\u001b[0mRow\u001b[0m\u001b[0;34m(\u001b[0m\u001b[0mindx\u001b[0m\u001b[0;34m,\u001b[0m \u001b[0mself\u001b[0m\u001b[0;34m)\u001b[0m\u001b[0;34m\u001b[0m\u001b[0m\n\u001b[0m\u001b[1;32m   1143\u001b[0m             \u001b[0;32mif\u001b[0m \u001b[0mindx\u001b[0m \u001b[0;34m>\u001b[0m \u001b[0mself\u001b[0m\u001b[0;34m.\u001b[0m\u001b[0mlast_used_row\u001b[0m\u001b[0;34m:\u001b[0m\u001b[0;34m\u001b[0m\u001b[0m\n\u001b[1;32m   1144\u001b[0m                 \u001b[0mself\u001b[0m\u001b[0;34m.\u001b[0m\u001b[0mlast_used_row\u001b[0m \u001b[0;34m=\u001b[0m \u001b[0mindx\u001b[0m\u001b[0;34m\u001b[0m\u001b[0m\n",
      "\u001b[0;32m/anaconda2/lib/python2.7/site-packages/xlwt/Row.pyc\u001b[0m in \u001b[0;36m__init__\u001b[0;34m(self, rowx, parent_sheet)\u001b[0m\n\u001b[1;32m     41\u001b[0m     \u001b[0;32mdef\u001b[0m \u001b[0m__init__\u001b[0m\u001b[0;34m(\u001b[0m\u001b[0mself\u001b[0m\u001b[0;34m,\u001b[0m \u001b[0mrowx\u001b[0m\u001b[0;34m,\u001b[0m \u001b[0mparent_sheet\u001b[0m\u001b[0;34m)\u001b[0m\u001b[0;34m:\u001b[0m\u001b[0;34m\u001b[0m\u001b[0m\n\u001b[1;32m     42\u001b[0m         \u001b[0;32mif\u001b[0m \u001b[0;32mnot\u001b[0m \u001b[0;34m(\u001b[0m\u001b[0misinstance\u001b[0m\u001b[0;34m(\u001b[0m\u001b[0mrowx\u001b[0m\u001b[0;34m,\u001b[0m \u001b[0mint_types\u001b[0m\u001b[0;34m)\u001b[0m \u001b[0;32mand\u001b[0m \u001b[0;36m0\u001b[0m \u001b[0;34m<=\u001b[0m \u001b[0mrowx\u001b[0m \u001b[0;34m<=\u001b[0m \u001b[0;36m65535\u001b[0m\u001b[0;34m)\u001b[0m\u001b[0;34m:\u001b[0m\u001b[0;34m\u001b[0m\u001b[0m\n\u001b[0;32m---> 43\u001b[0;31m             \u001b[0;32mraise\u001b[0m \u001b[0mValueError\u001b[0m\u001b[0;34m(\u001b[0m\u001b[0;34m\"row index was %r, not allowed by .xls format\"\u001b[0m \u001b[0;34m%\u001b[0m \u001b[0mrowx\u001b[0m\u001b[0;34m)\u001b[0m\u001b[0;34m\u001b[0m\u001b[0m\n\u001b[0m\u001b[1;32m     44\u001b[0m         \u001b[0mself\u001b[0m\u001b[0;34m.\u001b[0m\u001b[0m__idx\u001b[0m \u001b[0;34m=\u001b[0m \u001b[0mrowx\u001b[0m\u001b[0;34m\u001b[0m\u001b[0m\n\u001b[1;32m     45\u001b[0m         \u001b[0mself\u001b[0m\u001b[0;34m.\u001b[0m\u001b[0m__parent\u001b[0m \u001b[0;34m=\u001b[0m \u001b[0mparent_sheet\u001b[0m\u001b[0;34m\u001b[0m\u001b[0m\n",
      "\u001b[0;31mValueError\u001b[0m: row index was 65536, not allowed by .xls format"
     ]
    }
   ],
   "source": [
    "for i in range(2, 3859):\n",
    "    driver.get(\"https://www.hse.ru/adm/edit/select.html?cn=Person&amp=&amp=&amp=&amp=&sm=persons_sel_objrefs&p_pg=\"\\\n",
    "               +str(i) +\"&ctn=edit_refarray_p_boss_person&usm=unsel_objrefs&addon_name=default\")\n",
    "    w_even = driver.find_elements(By.CLASS_NAME,\"even_row\")\n",
    "    w_odd = driver.find_elements(By.CLASS_NAME,\"odd_row\")\n",
    "    people.extend(person_info(w_even))\n",
    "    people.extend(person_info(w_odd))\n",
    "    \n",
    "    num += len(w_even)\n",
    "    num += len(w_odd)\n",
    "\n",
    "    for e in range(len(w_even)+len(w_odd)):\n",
    "        P = people[row]\n",
    "        row += 1\n",
    "        rowb += 1\n",
    "        news_people.write(rowb,0,P[0])\n",
    "        news_people.write(rowb,1,P[1])\n",
    "        news_people.write(rowb,2,P[2])\n",
    "        news_people.write(rowb,3,P[3])\n",
    "        L = ''\n",
    "        D = ''\n",
    "        Pos = ''\n",
    "        for k in range(len(P[5])):\n",
    "            L += P[5][k][0]\n",
    "            L +='; '\n",
    "            #\n",
    "            D += P[5][k][1]\n",
    "            D +='; '\n",
    "            #\n",
    "            for p in P[5][k][2]:\n",
    "                Pos += p\n",
    "                Pos += ','\n",
    "      \n",
    "            Pos += ';'\n",
    "\n",
    "        news_people.write(rowb,4,L)\n",
    "        news_people.write(rowb,5,D)\n",
    "        news_people.write(rowb,6,Pos)\n",
    "        news_people.write(rowb,7,P[4])\n",
    "        \n",
    "    if row % 9000 == 0:\n",
    "        rowb = 0\n",
    "        l += 1\n",
    "        news_people = newb_people.add_sheet(str(1+l))\n",
    "        news_people.write(0,0,'ID')\n",
    "        news_people.write(0,1,'FIO')\n",
    "        news_people.write(0,2,'URL_org')\n",
    "        news_people.write(0,3,'URL_pes')\n",
    "        news_people.write(0,4,'Links')\n",
    "        news_people.write(0,5,'Deps')\n",
    "        news_people.write(0,6,'Positions')\n",
    "        news_people.write(0,7,'Active')"
   ]
  },
  {
   "cell_type": "code",
   "execution_count": 28,
   "metadata": {},
   "outputs": [],
   "source": [
    "newb_people.save(\"/Users/olgagerasimova/Downloads/Persons_info_2.xls\")"
   ]
  },
  {
   "cell_type": "code",
   "execution_count": 100,
   "metadata": {
    "collapsed": true
   },
   "outputs": [],
   "source": [
    "newb_people.save(\"/Users/olgagerasimova/Downloads/Persons_info.xls\")"
   ]
  },
  {
   "cell_type": "code",
   "execution_count": 33,
   "metadata": {},
   "outputs": [
    {
     "data": {
      "text/plain": [
       "['2766771',\n",
       " u'\\n\\u0410\\u0433\\u0430\\u0434\\u0443\\u043b\\u043b\\u0438\\u043d\\u0430 \\u0415\\u043b\\u0435\\u043d\\u0430 \\u0420\\u0430\\u0444\\u0438\\u043a\\u043e\\u0432\\u043d\\u0430',\n",
       " 'https://www.hse.ru/org/persons/2766771',\n",
       " 'https://www.hse.ru/org/persons/2766771',\n",
       " 1,\n",
       " [['https://www.hse.ru/adm/_/org/hse/psy/',\n",
       "   u'\\u0424\\u0430\\u043a\\u0443\\u043b\\u044c\\u0442\\u0435\\u0442 \\u043f\\u0441\\u0438\\u0445\\u043e\\u043b\\u043e\\u0433\\u0438\\u0438',\n",
       "   [u'\\u0437\\u0430\\u043c\\u0435\\u0441\\u0442\\u0438\\u0442\\u0435\\u043b\\u044c \\u0434\\u0435\\u043a\\u0430\\u043d\\u0430']],\n",
       "  ['https://www.hse.ruhttps://social.hse.ru/psy/',\n",
       "   u'\\u0414\\u0435\\u043f\\u0430\\u0440\\u0442\\u0430\\u043c\\u0435\\u043d\\u0442 \\u043f\\u0441\\u0438\\u0445\\u043e\\u043b\\u043e\\u0433\\u0438\\u0438',\n",
       "   [u'\\u0414\\u043e\\u0446\\u0435\\u043d\\u0442']],\n",
       "  ['https://www.hse.ruhttps://cogres.hse.ru/',\n",
       "   u'\\u041d\\u0430\\u0443\\u0447\\u043d\\u043e-\\u0443\\u0447\\u0435\\u0431\\u043d\\u0430\\u044f \\u043b\\u0430\\u0431\\u043e\\u0440\\u0430\\u0442\\u043e\\u0440\\u0438\\u044f \\u043a\\u043e\\u0433\\u043d\\u0438\\u0442\\u0438\\u0432\\u043d\\u044b\\u0445 \\u0438\\u0441\\u0441\\u043b\\u0435\\u0434\\u043e\\u0432\\u0430\\u043d\\u0438\\u0439',\n",
       "   [u'\\u0441\\u0442\\u0430\\u0440\\u0448\\u0438\\u0439 \\u043d\\u0430\\u0443\\u0447\\u043d\\u044b\\u0439 \\u0441\\u043e\\u0442\\u0440\\u0443\\u0434\\u043d\\u0438\\u043a',\n",
       "    u' \\u0421\\u0442\\u0430\\u0440\\u0448\\u0438\\u0439 \\u043d\\u0430\\u0443\\u0447\\u043d\\u044b\\u0439 \\u0441\\u043e\\u0442\\u0440\\u0443\\u0434\\u043d\\u0438\\u043a']],\n",
       "  ['https://www.hse.ru/adm/_/org/hse/psy/orgps/',\n",
       "   u'\\u041a\\u0430\\u0444\\u0435\\u0434\\u0440\\u0430 \\u043e\\u0440\\u0433\\u0430\\u043d\\u0438\\u0437\\u0430\\u0446\\u0438\\u043e\\u043d\\u043d\\u043e\\u0439 \\u043f\\u0441\\u0438\\u0445\\u043e\\u043b\\u043e\\u0433\\u0438\\u0438',\n",
       "   [u'\\u0441\\u0442\\u0430\\u0440\\u0448\\u0438\\u0439 \\u043f\\u0440\\u0435\\u043f\\u043e\\u0434\\u0430\\u0432\\u0430\\u0442\\u0435\\u043b\\u044c',\n",
       "    u' \\u0434\\u043e\\u0446\\u0435\\u043d\\u0442',\n",
       "    u' \\u043f\\u0440\\u0435\\u043f\\u043e\\u0434\\u0430\\u0432\\u0430\\u0442\\u0435\\u043b\\u044c',\n",
       "    u' \\u0414\\u043e\\u0446\\u0435\\u043d\\u0442',\n",
       "    u' \\u0437\\u0430\\u043c\\u0435\\u0441\\u0442\\u0438\\u0442\\u0435\\u043b\\u044c \\u0437\\u0430\\u0432\\u0435\\u0434\\u0443\\u044e\\u0449\\u0435\\u0433\\u043e \\u043a\\u0430\\u0444\\u0435\\u0434\\u0440\\u043e\\u0439 \\u043f\\u043e \\u0443\\u0447\\u0435\\u0431\\u043d\\u043e\\u0439 \\u0440\\u0430\\u0431\\u043e\\u0442\\u0435']],\n",
       "  ['https://www.hse.ruhttps://scr.hse.ru/',\n",
       "   u'\\u041c\\u0435\\u0436\\u0434\\u0443\\u043d\\u0430\\u0440\\u043e\\u0434\\u043d\\u0430\\u044f \\u043d\\u0430\\u0443\\u0447\\u043d\\u043e-\\u0443\\u0447\\u0435\\u0431\\u043d\\u0430\\u044f \\u043b\\u0430\\u0431\\u043e\\u0440\\u0430\\u0442\\u043e\\u0440\\u0438\\u044f \\u0441\\u043e\\u0446\\u0438\\u043e\\u043a\\u0443\\u043b\\u044c\\u0442\\u0443\\u0440\\u043d\\u044b\\u0445 \\u0438\\u0441\\u0441\\u043b\\u0435\\u0434\\u043e\\u0432\\u0430\\u043d\\u0438\\u0439',\n",
       "   [u'\\u0421\\u0442\\u0430\\u0440\\u0448\\u0438\\u0439 \\u043d\\u0430\\u0443\\u0447\\u043d\\u044b\\u0439 \\u0441\\u043e\\u0442\\u0440\\u0443\\u0434\\u043d\\u0438\\u043a',\n",
       "    u' \\u043c\\u043b\\u0430\\u0434\\u0448\\u0438\\u0439 \\u043d\\u0430\\u0443\\u0447\\u043d\\u044b\\u0439 \\u0441\\u043e\\u0442\\u0440\\u0443\\u0434\\u043d\\u0438\\u043a']]]]"
      ]
     },
     "execution_count": 33,
     "metadata": {},
     "output_type": "execute_result"
    }
   ],
   "source": [
    "people[3007]"
   ]
  },
  {
   "cell_type": "code",
   "execution_count": 352,
   "metadata": {},
   "outputs": [
    {
     "ename": "IndexError",
     "evalue": "list index out of range",
     "output_type": "error",
     "traceback": [
      "\u001b[0;31m---------------------------------------------------------------------------\u001b[0m",
      "\u001b[0;31mIndexError\u001b[0m                                Traceback (most recent call last)",
      "\u001b[0;32m<ipython-input-352-d1c4a2d6931e>\u001b[0m in \u001b[0;36m<module>\u001b[0;34m()\u001b[0m\n\u001b[1;32m      3\u001b[0m     \u001b[0msource_code\u001b[0m \u001b[0;34m=\u001b[0m \u001b[0mw_odd\u001b[0m\u001b[0;34m[\u001b[0m\u001b[0mi\u001b[0m\u001b[0;34m]\u001b[0m\u001b[0;34m.\u001b[0m\u001b[0mget_attribute\u001b[0m\u001b[0;34m(\u001b[0m\u001b[0;34m\"outerHTML\"\u001b[0m\u001b[0;34m)\u001b[0m\u001b[0;34m\u001b[0m\u001b[0m\n\u001b[1;32m      4\u001b[0m     \u001b[0melem\u001b[0m \u001b[0;34m=\u001b[0m \u001b[0mre\u001b[0m\u001b[0;34m.\u001b[0m\u001b[0mfindall\u001b[0m\u001b[0;34m(\u001b[0m\u001b[0;34mr'onclick=\"selectInOpener[\\w\\W]+window.close\\(\\)'\u001b[0m\u001b[0;34m,\u001b[0m\u001b[0msource_code\u001b[0m\u001b[0;34m)\u001b[0m\u001b[0;34m\u001b[0m\u001b[0m\n\u001b[0;32m----> 5\u001b[0;31m     \u001b[0mid_elem\u001b[0m \u001b[0;34m=\u001b[0m \u001b[0mint\u001b[0m\u001b[0;34m(\u001b[0m\u001b[0mre\u001b[0m\u001b[0;34m.\u001b[0m\u001b[0mfindall\u001b[0m\u001b[0;34m(\u001b[0m\u001b[0;34mr'[\\d]+'\u001b[0m\u001b[0;34m,\u001b[0m \u001b[0melem\u001b[0m\u001b[0;34m[\u001b[0m\u001b[0;36m0\u001b[0m\u001b[0;34m]\u001b[0m\u001b[0;34m)\u001b[0m\u001b[0;34m[\u001b[0m\u001b[0;36m0\u001b[0m\u001b[0;34m]\u001b[0m\u001b[0;34m)\u001b[0m\u001b[0;34m\u001b[0m\u001b[0m\n\u001b[0m\u001b[1;32m      6\u001b[0m     \u001b[0mfio\u001b[0m \u001b[0;34m=\u001b[0m \u001b[0mre\u001b[0m\u001b[0;34m.\u001b[0m\u001b[0mfindall\u001b[0m\u001b[0;34m(\u001b[0m\u001b[0;34mr',[\\w]+\\)'\u001b[0m\u001b[0;34m,\u001b[0m \u001b[0melem\u001b[0m\u001b[0;34m[\u001b[0m\u001b[0;36m0\u001b[0m\u001b[0;34m]\u001b[0m\u001b[0;34m)\u001b[0m\u001b[0;34m[\u001b[0m\u001b[0;36m0\u001b[0m\u001b[0;34m]\u001b[0m\u001b[0;34m\u001b[0m\u001b[0m\n\u001b[1;32m      7\u001b[0m \u001b[0;34m\u001b[0m\u001b[0m\n",
      "\u001b[0;31mIndexError\u001b[0m: list index out of range"
     ]
    }
   ],
   "source": [
    "w_odd = driver.find_elements(By.CLASS_NAME,\"odd_row\")"
   ]
  },
  {
   "cell_type": "code",
   "execution_count": 505,
   "metadata": {
    "collapsed": true
   },
   "outputs": [],
   "source": [
    "w_odd = driver.find_elements(By.CLASS_NAME,\"odd_row\")\n",
    "w_even = driver.find_elements(By.CLASS_NAME,\"even_row\")"
   ]
  },
  {
   "cell_type": "code",
   "execution_count": 419,
   "metadata": {},
   "outputs": [
    {
     "name": "stdout",
     "output_type": "stream",
     "text": [
      "<tr valign=\"top\" class=\"odd_row\">\n",
      "\n",
      "<td>\n",
      "<a href=\"#\" onclick=\"selectInOpener('edit_refarray_p_boss_person',36169483,'Макаров Илья Андреевич'); window.close(); return false; \">Макаров Илья Андреевич</a></td>\n",
      "<td>[<a href=\"/staff/iamakarov\" target=\"_blank\" onclick=\"window.open('/staff/iamakarov','pe',''); return false;\">См</a>]</td>\n",
      "<td>\n",
      "<div>\n",
      "<a href=\"/adm/_/org/hse/bi/opm/dataint/\">Кафедра анализа данных и искусственного интеллекта</a>:\n",
      "     Преподаватель, Старший преподаватель, заместитель заведующего кафедрой, заместитель заведующего </div>\n",
      "<div>\n",
      "<a href=\"https://academics.hse.ru/bibliography/\">Архив образовательного проекта \"Центр по работе с библиографией\"</a>:\n",
      "     Эксперт, ведущий специалист, Технический редактор </div>\n",
      "<div>\n",
      "<a href=\"/adm/_/org/hse/ec/demat/hmatec/\">Кафедра высшей математики на факультете экономики</a>:\n",
      "     Преподаватель </div>\n",
      "<div>\n",
      "<a href=\"https://cs.hse.ru/ai/\">Департамент анализа данных и искусственного интеллекта</a>:\n",
      "     Старший преподаватель, заместитель руководителя </div>\n",
      "<div>\n",
      "<a href=\"https://fdp.hse.ru/magistr/\">Подготовительное отделение магистратуры</a>:\n",
      "     Старший преподаватель </div>\n",
      "</td>\n",
      "<td>Активно</td>\n",
      "</tr>\n"
     ]
    }
   ],
   "source": [
    "source_code = w_odd[12].get_attribute(\"outerHTML\")\n",
    "print source_code"
   ]
  },
  {
   "cell_type": "code",
   "execution_count": 422,
   "metadata": {
    "collapsed": true
   },
   "outputs": [],
   "source": [
    "td_elems = re.findall(r'<td>[\\w\\W]*</td>',source_code)"
   ]
  },
  {
   "cell_type": "code",
   "execution_count": 425,
   "metadata": {},
   "outputs": [
    {
     "ename": "IndexError",
     "evalue": "list index out of range",
     "output_type": "error",
     "traceback": [
      "\u001b[0;31m---------------------------------------------------------------------------\u001b[0m",
      "\u001b[0;31mIndexError\u001b[0m                                Traceback (most recent call last)",
      "\u001b[0;32m<ipython-input-425-918fe21205d7>\u001b[0m in \u001b[0;36m<module>\u001b[0;34m()\u001b[0m\n\u001b[0;32m----> 1\u001b[0;31m \u001b[0;32mprint\u001b[0m \u001b[0mtd_elems\u001b[0m\u001b[0;34m[\u001b[0m\u001b[0;36m1\u001b[0m\u001b[0;34m]\u001b[0m\u001b[0;34m\u001b[0m\u001b[0m\n\u001b[0m",
      "\u001b[0;31mIndexError\u001b[0m: list index out of range"
     ]
    }
   ],
   "source": [
    "print td_elems[0]"
   ]
  },
  {
   "cell_type": "code",
   "execution_count": 447,
   "metadata": {
    "collapsed": true
   },
   "outputs": [],
   "source": [
    "from bs4 import BeautifulSoup\n",
    "soup = BeautifulSoup(source_code)"
   ]
  },
  {
   "cell_type": "code",
   "execution_count": null,
   "metadata": {
    "collapsed": true
   },
   "outputs": [],
   "source": []
  },
  {
   "cell_type": "code",
   "execution_count": 625,
   "metadata": {},
   "outputs": [
    {
     "data": {
      "text/plain": [
       "[]"
      ]
     },
     "execution_count": 625,
     "metadata": {},
     "output_type": "execute_result"
    }
   ],
   "source": [
    "id_elem = re.findall(r'[\\d]+', str(td1)[0])\n",
    "id_elem "
   ]
  },
  {
   "cell_type": "code",
   "execution_count": 451,
   "metadata": {
    "collapsed": true
   },
   "outputs": [],
   "source": [
    "from lxml import html"
   ]
  },
  {
   "cell_type": "code",
   "execution_count": 455,
   "metadata": {},
   "outputs": [
    {
     "data": {
      "text/plain": [
       "[]"
      ]
     },
     "execution_count": 455,
     "metadata": {},
     "output_type": "execute_result"
    }
   ],
   "source": [
    "tree = html.fromstring(source_code)\n",
    "div_node = tree.xpathtd')[0] # div тег\n",
    "div_node.xpath('./td') # все h2 теги, которые являются дочерними div ноде"
   ]
  },
  {
   "cell_type": "code",
   "execution_count": 466,
   "metadata": {},
   "outputs": [
    {
     "name": "stdout",
     "output_type": "stream",
     "text": [
      "Активно\n"
     ]
    }
   ],
   "source": [
    "print tree.xpath('td')[3].text\n"
   ]
  },
  {
   "cell_type": "code",
   "execution_count": 468,
   "metadata": {},
   "outputs": [
    {
     "name": "stdout",
     "output_type": "stream",
     "text": [
      "[]\n"
     ]
    }
   ],
   "source": [
    "print tree.xpath('td')"
   ]
  },
  {
   "cell_type": "code",
   "execution_count": 517,
   "metadata": {
    "collapsed": true
   },
   "outputs": [],
   "source": [
    "source_code = w_odd[12].get_attribute(\"outerHTML\")\n",
    "soap = BeautifulSoup(source_code)\n",
    "td1 = soup.find_all('td')[0]\n",
    "td2 = soup.find_all('td')[1]\n",
    "td3 = soup.find_all('td')[2]\n",
    "td4 = soup.find_all('td')[3]"
   ]
  },
  {
   "cell_type": "code",
   "execution_count": 558,
   "metadata": {},
   "outputs": [
    {
     "name": "stdout",
     "output_type": "stream",
     "text": [
      "<td>\n",
      "<div>\n",
      "<a href=\"/adm/_/org/hse/bi/opm/dataint/\">Кафедра анализа данных и искусственного интеллекта</a>:\n",
      "     Преподаватель, Старший преподаватель, заместитель заведующего кафедрой, заместитель заведующего </div>\n",
      "<div>\n",
      "<a href=\"https://academics.hse.ru/bibliography/\">Архив образовательного проекта \"Центр по работе с библиографией\"</a>:\n",
      "     Эксперт, ведущий специалист, Технический редактор </div>\n",
      "<div>\n",
      "<a href=\"/adm/_/org/hse/ec/demat/hmatec/\">Кафедра высшей математики на факультете экономики</a>:\n",
      "     Преподаватель </div>\n",
      "<div>\n",
      "<a href=\"https://cs.hse.ru/ai/\">Департамент анализа данных и искусственного интеллекта</a>:\n",
      "     Старший преподаватель, заместитель руководителя </div>\n",
      "<div>\n",
      "<a href=\"https://fdp.hse.ru/magistr/\">Подготовительное отделение магистратуры</a>:\n",
      "     Старший преподаватель </div>\n",
      "</td>\n"
     ]
    }
   ],
   "source": [
    "print td3"
   ]
  },
  {
   "cell_type": "code",
   "execution_count": 562,
   "metadata": {
    "collapsed": true
   },
   "outputs": [],
   "source": [
    "s = BeautifulSoup(str(td3))\n",
    "div_tags = soup.find_all('div')"
   ]
  },
  {
   "cell_type": "code",
   "execution_count": 604,
   "metadata": {
    "collapsed": true
   },
   "outputs": [],
   "source": [
    "info = []\n",
    "for i in range(len(div_tags)):\n",
    "    s0 = BeautifulSoup(str(div_tags[i]))\n",
    "    link = \"https://www.hse.ru\" + s0.find('a').get('href')\n",
    "    name_dep = s0.find('a').text\n",
    "    pos =  re.findall(r':[\\s\\w\\W]+',div_tags[i].text)[0][1:].strip().split(',')\n",
    "    info.append([link, name_dep, pos])\n",
    "    "
   ]
  },
  {
   "cell_type": "code",
   "execution_count": 620,
   "metadata": {},
   "outputs": [
    {
     "name": "stdout",
     "output_type": "stream",
     "text": [
      " заместитель заведующего\n"
     ]
    }
   ],
   "source": [
    "print info[0][2][3]"
   ]
  },
  {
   "cell_type": "code",
   "execution_count": 584,
   "metadata": {},
   "outputs": [
    {
     "name": "stdout",
     "output_type": "stream",
     "text": [
      "\n",
      "Кафедра анализа данных и искусственного интеллекта:\n",
      "     Преподаватель, Старший преподаватель, заместитель заведующего кафедрой, заместитель заведующего \n"
     ]
    }
   ],
   "source": [
    "print div_tags[0].text"
   ]
  },
  {
   "cell_type": "code",
   "execution_count": 1,
   "metadata": {
    "collapsed": true
   },
   "outputs": [],
   "source": [
    "from sklearn import datasets\n"
   ]
  },
  {
   "cell_type": "code",
   "execution_count": 2,
   "metadata": {},
   "outputs": [
    {
     "ename": "ImportError",
     "evalue": "No module named model_selection",
     "output_type": "error",
     "traceback": [
      "\u001b[0;31m---------------------------------------------------------------------------\u001b[0m",
      "\u001b[0;31mImportError\u001b[0m                               Traceback (most recent call last)",
      "\u001b[0;32m<ipython-input-2-4eb04d6fa512>\u001b[0m in \u001b[0;36m<module>\u001b[0;34m()\u001b[0m\n\u001b[1;32m      4\u001b[0m \u001b[0;32mfrom\u001b[0m \u001b[0msklearn\u001b[0m \u001b[0;32mimport\u001b[0m \u001b[0mlinear_model\u001b[0m\u001b[0;34m,\u001b[0m \u001b[0mdecomposition\u001b[0m\u001b[0;34m,\u001b[0m \u001b[0mdatasets\u001b[0m\u001b[0;34m\u001b[0m\u001b[0m\n\u001b[1;32m      5\u001b[0m \u001b[0;32mfrom\u001b[0m \u001b[0msklearn\u001b[0m\u001b[0;34m.\u001b[0m\u001b[0mpipeline\u001b[0m \u001b[0;32mimport\u001b[0m \u001b[0mPipeline\u001b[0m\u001b[0;34m\u001b[0m\u001b[0m\n\u001b[0;32m----> 6\u001b[0;31m \u001b[0;32mfrom\u001b[0m \u001b[0msklearn\u001b[0m\u001b[0;34m.\u001b[0m\u001b[0mmodel_selection\u001b[0m \u001b[0;32mimport\u001b[0m \u001b[0mGridSearchCV\u001b[0m\u001b[0;34m\u001b[0m\u001b[0m\n\u001b[0m",
      "\u001b[0;31mImportError\u001b[0m: No module named model_selection"
     ]
    }
   ],
   "source": [
    "import numpy as np\n",
    "import matplotlib.pyplot as plt\n",
    "\n",
    "from sklearn import linear_model, decomposition, datasets\n",
    "from sklearn.pipeline import Pipeline\n",
    "from sklearn.model_selection import GridSearchCV"
   ]
  },
  {
   "cell_type": "code",
   "execution_count": 3,
   "metadata": {},
   "outputs": [
    {
     "ename": "ImportError",
     "evalue": "No module named xgboost",
     "output_type": "error",
     "traceback": [
      "\u001b[0;31m---------------------------------------------------------------------------\u001b[0m",
      "\u001b[0;31mImportError\u001b[0m                               Traceback (most recent call last)",
      "\u001b[0;32m<ipython-input-3-745aa3a2d734>\u001b[0m in \u001b[0;36m<module>\u001b[0;34m()\u001b[0m\n\u001b[0;32m----> 1\u001b[0;31m \u001b[0;32mimport\u001b[0m \u001b[0mxgboost\u001b[0m \u001b[0;32mas\u001b[0m \u001b[0mxgb\u001b[0m\u001b[0;34m\u001b[0m\u001b[0m\n\u001b[0m",
      "\u001b[0;31mImportError\u001b[0m: No module named xgboost"
     ]
    }
   ],
   "source": [
    "import xgboost as xgb\n"
   ]
  },
  {
   "cell_type": "code",
   "execution_count": 1,
   "metadata": {
    "collapsed": true
   },
   "outputs": [],
   "source": [
    "import pandas as pd\n",
    "import os\n"
   ]
  },
  {
   "cell_type": "code",
   "execution_count": 9,
   "metadata": {
    "collapsed": true
   },
   "outputs": [],
   "source": [
    "folder = u'/Users/olgagerasimova/Desktop/files/' # папка с файлами\n",
    "files = [os.path.join(folder,f) for f in folder] # формируем список путей к файлам\n",
    "all_file_frames = [] #сюда будем добавлять прочитанную таблицу "
   ]
  },
  {
   "cell_type": "code",
   "execution_count": null,
   "metadata": {
    "collapsed": true
   },
   "outputs": [],
   "source": []
  },
  {
   "cell_type": "code",
   "execution_count": 4,
   "metadata": {},
   "outputs": [
    {
     "name": "stdout",
     "output_type": "stream",
     "text": [
      "Reading /\n"
     ]
    },
    {
     "ename": "IOError",
     "evalue": "[Errno 21] Is a directory: '/'",
     "output_type": "error",
     "traceback": [
      "\u001b[0;31m---------------------------------------------------------------------------\u001b[0m",
      "\u001b[0;31mIOError\u001b[0m                                   Traceback (most recent call last)",
      "\u001b[0;32m<ipython-input-4-23c978b04815>\u001b[0m in \u001b[0;36m<module>\u001b[0;34m()\u001b[0m\n\u001b[1;32m      1\u001b[0m \u001b[0;32mfor\u001b[0m \u001b[0mf\u001b[0m \u001b[0;32min\u001b[0m \u001b[0mfiles\u001b[0m\u001b[0;34m:\u001b[0m\u001b[0;34m\u001b[0m\u001b[0m\n\u001b[1;32m      2\u001b[0m     \u001b[0;32mprint\u001b[0m\u001b[0;34m(\u001b[0m\u001b[0;34m'Reading %s'\u001b[0m\u001b[0;34m%\u001b[0m\u001b[0mf\u001b[0m\u001b[0;34m)\u001b[0m\u001b[0;34m\u001b[0m\u001b[0m\n\u001b[0;32m----> 3\u001b[0;31m     \u001b[0mtab\u001b[0m \u001b[0;34m=\u001b[0m \u001b[0mpd\u001b[0m\u001b[0;34m.\u001b[0m\u001b[0mread_excel\u001b[0m\u001b[0;34m(\u001b[0m\u001b[0mf\u001b[0m\u001b[0;34m)\u001b[0m\u001b[0;34m\u001b[0m\u001b[0m\n\u001b[0m\u001b[1;32m      4\u001b[0m     \u001b[0mall_file_frames\u001b[0m\u001b[0;34m.\u001b[0m\u001b[0mappend\u001b[0m\u001b[0;34m(\u001b[0m\u001b[0mtab\u001b[0m\u001b[0;34m)\u001b[0m\u001b[0;34m\u001b[0m\u001b[0m\n\u001b[1;32m      5\u001b[0m \u001b[0mall_frame\u001b[0m \u001b[0;34m=\u001b[0m \u001b[0mpd\u001b[0m\u001b[0;34m.\u001b[0m\u001b[0mconcat\u001b[0m\u001b[0;34m(\u001b[0m\u001b[0mall_file_frames\u001b[0m\u001b[0;34m,\u001b[0m\u001b[0maxis\u001b[0m\u001b[0;34m=\u001b[0m\u001b[0;36m0\u001b[0m\u001b[0;34m)\u001b[0m \u001b[0;31m#  axis=0 если нужно добавить таблицу снизу и axis=1 если нужно слева\u001b[0m\u001b[0;34m\u001b[0m\u001b[0m\n",
      "\u001b[0;32m/Users/olgagerasimova/anaconda2/lib/python2.7/site-packages/pandas/io/excel.pyc\u001b[0m in \u001b[0;36mread_excel\u001b[0;34m(io, sheetname, header, skiprows, skip_footer, index_col, names, parse_cols, parse_dates, date_parser, na_values, thousands, convert_float, has_index_names, converters, engine, squeeze, **kwds)\u001b[0m\n\u001b[1;32m    168\u001b[0m     \"\"\"\n\u001b[1;32m    169\u001b[0m     \u001b[0;32mif\u001b[0m \u001b[0;32mnot\u001b[0m \u001b[0misinstance\u001b[0m\u001b[0;34m(\u001b[0m\u001b[0mio\u001b[0m\u001b[0;34m,\u001b[0m \u001b[0mExcelFile\u001b[0m\u001b[0;34m)\u001b[0m\u001b[0;34m:\u001b[0m\u001b[0;34m\u001b[0m\u001b[0m\n\u001b[0;32m--> 170\u001b[0;31m         \u001b[0mio\u001b[0m \u001b[0;34m=\u001b[0m \u001b[0mExcelFile\u001b[0m\u001b[0;34m(\u001b[0m\u001b[0mio\u001b[0m\u001b[0;34m,\u001b[0m \u001b[0mengine\u001b[0m\u001b[0;34m=\u001b[0m\u001b[0mengine\u001b[0m\u001b[0;34m)\u001b[0m\u001b[0;34m\u001b[0m\u001b[0m\n\u001b[0m\u001b[1;32m    171\u001b[0m \u001b[0;34m\u001b[0m\u001b[0m\n\u001b[1;32m    172\u001b[0m     return io._parse_excel(\n",
      "\u001b[0;32m/Users/olgagerasimova/anaconda2/lib/python2.7/site-packages/pandas/io/excel.pyc\u001b[0m in \u001b[0;36m__init__\u001b[0;34m(self, io, **kwds)\u001b[0m\n\u001b[1;32m    225\u001b[0m             \u001b[0mself\u001b[0m\u001b[0;34m.\u001b[0m\u001b[0mbook\u001b[0m \u001b[0;34m=\u001b[0m \u001b[0mxlrd\u001b[0m\u001b[0;34m.\u001b[0m\u001b[0mopen_workbook\u001b[0m\u001b[0;34m(\u001b[0m\u001b[0mfile_contents\u001b[0m\u001b[0;34m=\u001b[0m\u001b[0mdata\u001b[0m\u001b[0;34m)\u001b[0m\u001b[0;34m\u001b[0m\u001b[0m\n\u001b[1;32m    226\u001b[0m         \u001b[0;32melif\u001b[0m \u001b[0misinstance\u001b[0m\u001b[0;34m(\u001b[0m\u001b[0mio\u001b[0m\u001b[0;34m,\u001b[0m \u001b[0mcompat\u001b[0m\u001b[0;34m.\u001b[0m\u001b[0mstring_types\u001b[0m\u001b[0;34m)\u001b[0m\u001b[0;34m:\u001b[0m\u001b[0;34m\u001b[0m\u001b[0m\n\u001b[0;32m--> 227\u001b[0;31m             \u001b[0mself\u001b[0m\u001b[0;34m.\u001b[0m\u001b[0mbook\u001b[0m \u001b[0;34m=\u001b[0m \u001b[0mxlrd\u001b[0m\u001b[0;34m.\u001b[0m\u001b[0mopen_workbook\u001b[0m\u001b[0;34m(\u001b[0m\u001b[0mio\u001b[0m\u001b[0;34m)\u001b[0m\u001b[0;34m\u001b[0m\u001b[0m\n\u001b[0m\u001b[1;32m    228\u001b[0m         \u001b[0;32melse\u001b[0m\u001b[0;34m:\u001b[0m\u001b[0;34m\u001b[0m\u001b[0m\n\u001b[1;32m    229\u001b[0m             raise ValueError('Must explicitly set engine if not passing in'\n",
      "\u001b[0;32m/Users/olgagerasimova/anaconda2/lib/python2.7/site-packages/xlrd/__init__.pyc\u001b[0m in \u001b[0;36mopen_workbook\u001b[0;34m(filename, logfile, verbosity, use_mmap, file_contents, encoding_override, formatting_info, on_demand, ragged_rows)\u001b[0m\n\u001b[1;32m    393\u001b[0m         \u001b[0mpeek\u001b[0m \u001b[0;34m=\u001b[0m \u001b[0mfile_contents\u001b[0m\u001b[0;34m[\u001b[0m\u001b[0;34m:\u001b[0m\u001b[0mpeeksz\u001b[0m\u001b[0;34m]\u001b[0m\u001b[0;34m\u001b[0m\u001b[0m\n\u001b[1;32m    394\u001b[0m     \u001b[0;32melse\u001b[0m\u001b[0;34m:\u001b[0m\u001b[0;34m\u001b[0m\u001b[0m\n\u001b[0;32m--> 395\u001b[0;31m         \u001b[0;32mwith\u001b[0m \u001b[0mopen\u001b[0m\u001b[0;34m(\u001b[0m\u001b[0mfilename\u001b[0m\u001b[0;34m,\u001b[0m \u001b[0;34m\"rb\"\u001b[0m\u001b[0;34m)\u001b[0m \u001b[0;32mas\u001b[0m \u001b[0mf\u001b[0m\u001b[0;34m:\u001b[0m\u001b[0;34m\u001b[0m\u001b[0m\n\u001b[0m\u001b[1;32m    396\u001b[0m             \u001b[0mpeek\u001b[0m \u001b[0;34m=\u001b[0m \u001b[0mf\u001b[0m\u001b[0;34m.\u001b[0m\u001b[0mread\u001b[0m\u001b[0;34m(\u001b[0m\u001b[0mpeeksz\u001b[0m\u001b[0;34m)\u001b[0m\u001b[0;34m\u001b[0m\u001b[0m\n\u001b[1;32m    397\u001b[0m     \u001b[0;32mif\u001b[0m \u001b[0mpeek\u001b[0m \u001b[0;34m==\u001b[0m \u001b[0;34mb\"PK\\x03\\x04\"\u001b[0m\u001b[0;34m:\u001b[0m \u001b[0;31m# a ZIP file\u001b[0m\u001b[0;34m\u001b[0m\u001b[0m\n",
      "\u001b[0;31mIOError\u001b[0m: [Errno 21] Is a directory: '/'"
     ]
    }
   ],
   "source": [
    "for f in files:\n",
    "    print('Reading %s'%f)\n",
    "    tab = pd.read_excel(f)\n",
    "    all_file_frames.append(tab)\n",
    "all_frame = pd.concat(all_file_frames,axis=0) #  axis=0 если нужно добавить таблицу снизу и axis=1 если нужно слева\n",
    "all_frame.to_excel('/Users/olgagerasimova/Desktop/files/final_file.xlsx') #получим файл final_file.xlsx в os.getcwd()"
   ]
  },
  {
   "cell_type": "code",
   "execution_count": 12,
   "metadata": {
    "collapsed": true
   },
   "outputs": [],
   "source": [
    "import requests\n",
    "import json\n",
    "import httplib, urllib2\n",
    "import urllib\n",
    "\n",
    "response = urllib.urlopen(\"http://www.scimagojr.com/journalrank.php\")\n",
    "text = response.read().decode(\"utf-8\")\n",
    "import re\n",
    "categories = re.findall(u'category=\\d+', text)\n",
    "cat_num = [num[-4:] for num in categories] # numbers correspond to categories\n",
    "years = [y for y in range(1999,2000)] # years (from 1999 to 2015)\n"
   ]
  },
  {
   "cell_type": "code",
   "execution_count": 13,
   "metadata": {},
   "outputs": [
    {
     "data": {
      "text/plain": [
       "[u'1402',\n",
       " u'3102',\n",
       " u'2902',\n",
       " u'2202',\n",
       " u'1302',\n",
       " u'1101',\n",
       " u'1102',\n",
       " u'2602',\n",
       " u'2603',\n",
       " u'1602',\n",
       " u'2702',\n",
       " u'2703',\n",
       " u'1103',\n",
       " u'3314',\n",
       " u'2604',\n",
       " u'2402',\n",
       " u'3202',\n",
       " u'1104',\n",
       " u'3302',\n",
       " u'1204',\n",
       " u'2216',\n",
       " u'1702',\n",
       " u'1201',\n",
       " u'2903',\n",
       " u'3103',\n",
       " u'1902',\n",
       " u'3107',\n",
       " u'2203',\n",
       " u'2802',\n",
       " u'1303',\n",
       " u'1301',\n",
       " u'2704',\n",
       " u'1502',\n",
       " u'2803',\n",
       " u'2502',\n",
       " u'2204',\n",
       " u'1304',\n",
       " u'1305',\n",
       " u'2215',\n",
       " u'1403',\n",
       " u'1401',\n",
       " u'1306',\n",
       " u'2705',\n",
       " u'2904',\n",
       " u'1503',\n",
       " u'1307',\n",
       " u'2804',\n",
       " u'2503',\n",
       " u'1501',\n",
       " u'1504',\n",
       " u'1601',\n",
       " u'3602',\n",
       " u'2205',\n",
       " u'1205',\n",
       " u'1308',\n",
       " u'3203',\n",
       " u'2805',\n",
       " u'1505',\n",
       " u'3315',\n",
       " u'2905',\n",
       " u'2707',\n",
       " u'3603',\n",
       " u'2605',\n",
       " u'2206',\n",
       " u'1703',\n",
       " u'1704',\n",
       " u'1705',\n",
       " u'1706',\n",
       " u'1701',\n",
       " u'1903',\n",
       " u'1707',\n",
       " u'3104',\n",
       " u'1206',\n",
       " u'2606',\n",
       " u'2207',\n",
       " u'2706',\n",
       " u'2906',\n",
       " u'3316',\n",
       " u'1801',\n",
       " u'3317',\n",
       " u'3502',\n",
       " u'3503',\n",
       " u'3501',\n",
       " u'2708',\n",
       " u'3303',\n",
       " u'3204',\n",
       " u'1309',\n",
       " u'2806',\n",
       " u'2607',\n",
       " u'3002',\n",
       " u'2709',\n",
       " u'1901',\n",
       " u'1904',\n",
       " u'2302',\n",
       " u'2303',\n",
       " u'1105',\n",
       " u'1905',\n",
       " u'2002',\n",
       " u'2001',\n",
       " u'3304',\n",
       " u'2208',\n",
       " u'1603',\n",
       " u'2504',\n",
       " u'2710',\n",
       " u'3604',\n",
       " u'2711',\n",
       " u'2907',\n",
       " u'2807',\n",
       " u'1310',\n",
       " u'2712',\n",
       " u'2102',\n",
       " u'2101',\n",
       " u'2201',\n",
       " u'2304',\n",
       " u'2305',\n",
       " u'2301',\n",
       " u'2713',\n",
       " u'3402',\n",
       " u'3205',\n",
       " u'2714',\n",
       " u'1506',\n",
       " u'2003',\n",
       " u'1507',\n",
       " u'3403',\n",
       " u'1106',\n",
       " u'1107',\n",
       " u'2103',\n",
       " u'2908',\n",
       " u'2715',\n",
       " u'3318',\n",
       " u'1311',\n",
       " u'2716',\n",
       " u'1906',\n",
       " u'3305',\n",
       " u'1907',\n",
       " u'2608',\n",
       " u'1908',\n",
       " u'1909',\n",
       " u'2717',\n",
       " u'2909',\n",
       " u'2306',\n",
       " u'1708',\n",
       " u'2718',\n",
       " u'3605',\n",
       " u'2719',\n",
       " u'3601',\n",
       " u'3306',\n",
       " u'2307',\n",
       " u'2720',\n",
       " u'2721',\n",
       " u'2722',\n",
       " u'1202',\n",
       " u'1207',\n",
       " u'1108',\n",
       " u'1709',\n",
       " u'3307',\n",
       " u'2403',\n",
       " u'2723',\n",
       " u'2401',\n",
       " u'2209',\n",
       " u'1410',\n",
       " u'2725',\n",
       " u'1710',\n",
       " u'1802',\n",
       " u'1604',\n",
       " u'1109',\n",
       " u'3105',\n",
       " u'2724',\n",
       " u'2910',\n",
       " u'1203',\n",
       " u'3308',\n",
       " u'2911',\n",
       " u'3309',\n",
       " u'3319',\n",
       " u'3310',\n",
       " u'1208',\n",
       " u'2609',\n",
       " u'2912',\n",
       " u'1404',\n",
       " u'2308',\n",
       " u'1405',\n",
       " u'1803',\n",
       " u'1406',\n",
       " u'2505',\n",
       " u'2501',\n",
       " u'2913',\n",
       " u'2610',\n",
       " u'2601',\n",
       " u'2210',\n",
       " u'2211',\n",
       " u'2214',\n",
       " u'2914',\n",
       " u'3606',\n",
       " u'3607',\n",
       " u'3608',\n",
       " u'2701',\n",
       " u'2506',\n",
       " u'2404',\n",
       " u'2726',\n",
       " u'2611',\n",
       " u'1312',\n",
       " u'1313',\n",
       " u'1000',\n",
       " u'1209',\n",
       " u'1210',\n",
       " u'2509',\n",
       " u'2309',\n",
       " u'2727',\n",
       " u'2808',\n",
       " u'2728',\n",
       " u'3206',\n",
       " u'2801',\n",
       " u'3106',\n",
       " u'2104',\n",
       " u'2612',\n",
       " u'2915',\n",
       " u'2901',\n",
       " u'2916',\n",
       " u'2729',\n",
       " u'3609',\n",
       " u'2212',\n",
       " u'1910',\n",
       " u'2730',\n",
       " u'2917',\n",
       " u'2731',\n",
       " u'3610',\n",
       " u'3504',\n",
       " u'1605',\n",
       " u'1407',\n",
       " u'3505',\n",
       " u'2732',\n",
       " u'2733',\n",
       " u'1911',\n",
       " u'2405',\n",
       " u'2734',\n",
       " u'2918',\n",
       " u'2919',\n",
       " u'2735',\n",
       " u'3506',\n",
       " u'3003',\n",
       " u'3004',\n",
       " u'2736',\n",
       " u'2920',\n",
       " u'3001',\n",
       " u'3611',\n",
       " u'1211',\n",
       " u'1606',\n",
       " u'3612',\n",
       " u'3101',\n",
       " u'1314',\n",
       " u'2737',\n",
       " u'1110',\n",
       " u'3613',\n",
       " u'3320',\n",
       " u'2310',\n",
       " u'2507',\n",
       " u'1508',\n",
       " u'2921',\n",
       " u'2738',\n",
       " u'3201',\n",
       " u'3321',\n",
       " u'2739',\n",
       " u'2740',\n",
       " u'3108',\n",
       " u'3614',\n",
       " u'2741',\n",
       " u'2742',\n",
       " u'1212',\n",
       " u'2105',\n",
       " u'2743',\n",
       " u'2922',\n",
       " u'3615',\n",
       " u'2923',\n",
       " u'2744',\n",
       " u'2745',\n",
       " u'3311',\n",
       " u'2213',\n",
       " u'2809',\n",
       " u'1711',\n",
       " u'3404',\n",
       " u'3207',\n",
       " u'3301',\n",
       " u'3323',\n",
       " u'3312',\n",
       " u'1712',\n",
       " u'1111',\n",
       " u'1912',\n",
       " u'1607',\n",
       " u'3616',\n",
       " u'3699',\n",
       " u'3109',\n",
       " u'2613',\n",
       " u'1804',\n",
       " u'1408',\n",
       " u'1913',\n",
       " u'1315',\n",
       " u'3110',\n",
       " u'2508',\n",
       " u'2746',\n",
       " u'2614',\n",
       " u'1409',\n",
       " u'3005',\n",
       " u'2747',\n",
       " u'3313',\n",
       " u'3322',\n",
       " u'2748',\n",
       " u'3401',\n",
       " u'2406',\n",
       " u'1213',\n",
       " u'2311',\n",
       " u'2312']"
      ]
     },
     "execution_count": 13,
     "metadata": {},
     "output_type": "execute_result"
    }
   ],
   "source": [
    "cat_num"
   ]
  },
  {
   "cell_type": "code",
   "execution_count": null,
   "metadata": {
    "collapsed": true
   },
   "outputs": [],
   "source": []
  }
 ],
 "metadata": {
  "anaconda-cloud": {},
  "kernelspec": {
   "display_name": "Python 2",
   "language": "python",
   "name": "python2"
  },
  "language_info": {
   "codemirror_mode": {
    "name": "ipython",
    "version": 2
   },
   "file_extension": ".py",
   "mimetype": "text/x-python",
   "name": "python",
   "nbconvert_exporter": "python",
   "pygments_lexer": "ipython2",
   "version": "2.7.14"
  }
 },
 "nbformat": 4,
 "nbformat_minor": 1
}
