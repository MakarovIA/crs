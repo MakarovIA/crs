{
 "cells": [
  {
   "cell_type": "code",
   "execution_count": 1,
   "metadata": {
    "collapsed": true
   },
   "outputs": [],
   "source": [
    "import os\n",
    "import numpy as np\n",
    "import pandas as pd\n",
    "import collections\n",
    "import matplotlib.pyplot as plt\n",
    "import networkx as nx\n",
    "import math\n",
    "import re\n",
    "from difflib import SequenceMatcher\n",
    "from unidecode import unidecode \n",
    "from openpyxl import Workbook"
   ]
  },
  {
   "cell_type": "code",
   "execution_count": 2,
   "metadata": {
    "collapsed": true
   },
   "outputs": [],
   "source": [
    "Graph_train =nx.read_gml(\"/Users/olgagerasimova/Desktop/Data/Graph_train.gml\")"
   ]
  },
  {
   "cell_type": "code",
   "execution_count": 3,
   "metadata": {
    "collapsed": true
   },
   "outputs": [],
   "source": [
    "Graph_2017=nx.read_gml(\"/Users/olgagerasimova/Desktop/Data/Graph_2017.gml\")"
   ]
  },
  {
   "cell_type": "code",
   "execution_count": null,
   "metadata": {
    "collapsed": true
   },
   "outputs": [],
   "source": [
    "bet_train = nx.betweenness_centrality(Graph_train)\n",
    "\n",
    "bet_2017 = nx.betweenness_centrality(Graph_2017)\n",
    "\n",
    "deg_train = nx.degree_centrality(Graph_train)\n",
    "\n",
    "deg_2017 = nx.degree_centrality(Graph_2017)\n",
    "\n",
    "clos_train = nx.closeness_centrality(Graph_train)\n",
    "\n",
    "clos_2017 = nx.closeness_centrality(Graph_2017)"
   ]
  },
  {
   "cell_type": "code",
   "execution_count": 4,
   "metadata": {
    "collapsed": true
   },
   "outputs": [],
   "source": [
    "edges_train = []\n",
    "empty =[edges_train.append(e) for e in Graph_train.edges()]\n",
    "edges_2017 = []\n",
    "empty =[edges_2017.append(e) for e in Graph_2017.edges()]"
   ]
  },
  {
   "cell_type": "code",
   "execution_count": 5,
   "metadata": {
    "collapsed": true
   },
   "outputs": [],
   "source": [
    "nodes_train = []\n",
    "empty =[nodes_train.append(e) for e in Graph_train.nodes()]\n",
    "nodes_2017 = []\n",
    "empty =[nodes_2017.append(e) for e in Graph_2017.nodes()]"
   ]
  },
  {
   "cell_type": "code",
   "execution_count": 6,
   "metadata": {
    "collapsed": true
   },
   "outputs": [],
   "source": [
    "all_e_train = []\n",
    "nt = sorted(nodes_train)\n",
    "for i in nt:\n",
    "    for j in nt:\n",
    "        if i != j:\n",
    "            all_e_train.append((i,j))"
   ]
  },
  {
   "cell_type": "code",
   "execution_count": 7,
   "metadata": {
    "collapsed": true
   },
   "outputs": [],
   "source": [
    "all_e = []\n",
    "nt = sorted(nodes_2017)\n",
    "for i in nt:\n",
    "    for j in nt:\n",
    "        if i != j:\n",
    "            all_e.append((i,j))"
   ]
  },
  {
   "cell_type": "code",
   "execution_count": 8,
   "metadata": {
    "collapsed": true
   },
   "outputs": [],
   "source": [
    "com_neig_train = np.zeros((len(nodes_train),len(nodes_train)))\n",
    "for i in nodes_train:\n",
    "    for j in nodes_train:\n",
    "        if i != j:\n",
    "            com_neig_train[int(i)][int(j)] = len(list(nx.common_neighbors(Graph_train,i,j)))"
   ]
  },
  {
   "cell_type": "code",
   "execution_count": 6,
   "metadata": {
    "collapsed": true
   },
   "outputs": [],
   "source": [
    "com_neig_2017 = np.zeros((len(nodes_2017),len(nodes_2017)))\n",
    "for i in range(len(nodes_2017)):\n",
    "    for j in range(len(nodes_2017)):\n",
    "        if i != j:\n",
    "            com_neig_2017[i][j] = len(list(nx.common_neighbors(Graph_2017,nodes_2017[i],nodes_2017[j])))"
   ]
  },
  {
   "cell_type": "code",
   "execution_count": 7,
   "metadata": {
    "collapsed": true
   },
   "outputs": [],
   "source": [
    "sp_train = dict(nx.shortest_path_length(Graph_train ))"
   ]
  },
  {
   "cell_type": "code",
   "execution_count": 8,
   "metadata": {
    "collapsed": true
   },
   "outputs": [],
   "source": [
    "sp_2017 = dict(nx.shortest_path_length(Graph_2017 ))"
   ]
  },
  {
   "cell_type": "code",
   "execution_count": null,
   "metadata": {
    "collapsed": true
   },
   "outputs": [],
   "source": [
    "J_train = nx.jaccard_coefficient(nx.Graph(Graph_train), edges_train)\n",
    "J_2017 = nx.jaccard_coefficient(nx.Graph(Graph_2017), edges_2017)"
   ]
  },
  {
   "cell_type": "code",
   "execution_count": null,
   "metadata": {
    "collapsed": true
   },
   "outputs": [],
   "source": [
    "cl_train = nx.clustering(nx.Graph(Graph_train))\n",
    "cl_2017 = nx.clustering(nx.Graph(Graph_2017))"
   ]
  },
  {
   "cell_type": "code",
   "execution_count": null,
   "metadata": {
    "collapsed": true
   },
   "outputs": [],
   "source": [
    "AA_train = nx.adamic_adar_index(nx.Graph(Graph_train), all_e_train)\n",
    "AA_2017 = nx.adamic_adar_index(nx.Graph(Graph_2017), all_e)"
   ]
  },
  {
   "cell_type": "code",
   "execution_count": null,
   "metadata": {
    "collapsed": true
   },
   "outputs": [],
   "source": []
  }
 ],
 "metadata": {
  "kernelspec": {
   "display_name": "Python [default]",
   "language": "python",
   "name": "python2"
  },
  "language_info": {
   "codemirror_mode": {
    "name": "ipython",
    "version": 2
   },
   "file_extension": ".py",
   "mimetype": "text/x-python",
   "name": "python",
   "nbconvert_exporter": "python",
   "pygments_lexer": "ipython2",
   "version": "2.7.12"
  }
 },
 "nbformat": 4,
 "nbformat_minor": 2
}
